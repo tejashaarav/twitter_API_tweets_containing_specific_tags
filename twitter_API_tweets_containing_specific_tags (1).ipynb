{
 "cells": [
  {
   "cell_type": "code",
   "execution_count": 1,
   "id": "5d7f28c4",
   "metadata": {},
   "outputs": [],
   "source": [
    "import tweepy \n",
    "import pandas as pd\n",
    "import numpy as np"
   ]
  },
  {
   "cell_type": "code",
   "execution_count": 2,
   "id": "bd25dad8",
   "metadata": {},
   "outputs": [],
   "source": [
    "auth = tweepy.OAuthHandler(\"*****************\",\"*************************\")"
   ]
  },
  {
   "cell_type": "code",
   "execution_count": 3,
   "id": "bd0bff75",
   "metadata": {},
   "outputs": [],
   "source": [
    "auth.set_access_token(\"********************************\", \"*****************************************\")"
   ]
  },
  {
   "cell_type": "code",
   "execution_count": 4,
   "id": "3f96b767",
   "metadata": {},
   "outputs": [],
   "source": [
    "api = tweepy.API(auth)"
   ]
  },
  {
   "cell_type": "code",
   "execution_count": 5,
   "id": "e9e0f8ff",
   "metadata": {},
   "outputs": [],
   "source": [
    "keywords = 'afterhours'\n",
    "limit=300\n"
   ]
  },
  {
   "cell_type": "code",
   "execution_count": 6,
   "id": "20fb3bb7",
   "metadata": {},
   "outputs": [],
   "source": [
    "tweets = tweepy.Cursor(api.search_tweets, q=keywords, count=100, tweet_mode='extended').items(limit)"
   ]
  },
  {
   "cell_type": "code",
   "execution_count": 7,
   "id": "1e24f874",
   "metadata": {},
   "outputs": [],
   "source": [
    "columns = ['User', 'Tweet']\n",
    "data = []"
   ]
  },
  {
   "cell_type": "code",
   "execution_count": 8,
   "id": "ba74364d",
   "metadata": {},
   "outputs": [],
   "source": [
    "\n",
    "for tweet in tweets:\n",
    "    data.append([tweet.user.screen_name, tweet.full_text])\n"
   ]
  },
  {
   "cell_type": "code",
   "execution_count": 9,
   "id": "2c76b1a4",
   "metadata": {},
   "outputs": [],
   "source": [
    "df = pd.DataFrame(data, columns=columns)"
   ]
  },
  {
   "cell_type": "code",
   "execution_count": 10,
   "id": "5c6fe8d3",
   "metadata": {},
   "outputs": [
    {
     "name": "stdout",
     "output_type": "stream",
     "text": [
      "                User                                              Tweet\n",
      "0     Afterhours_fun  @ArchesAtara1 saw this, thought of you https:/...\n",
      "1       pepeperez015  @RubenSanchezTW Habría que abstenerse de hacer...\n",
      "2            tacefn1  RT @AfterHoursOCE: Afterhours $2500 Trio Royal...\n",
      "3      AfterHoursOCE  Afterhours $2500 Trio Royale Results 🤩\\n\\n🥇@al...\n",
      "4       hakanharpci1  Afterhours - Progressive &amp; Melodic House S...\n",
      "..               ...                                                ...\n",
      "295           m0azin  RT @abelsbeard: Beauty of afterhours ❌⭕❤🔥🍒🌉🚘🎈♦...\n",
      "296       blackgrrrl  Meganoidi\\nAFI\\nOffspring\\nThe Distillers\\nSub...\n",
      "297   SailorKomeInes  Black Rebel Motorcycle Club\\nLamb\\nFranco Batt...\n",
      "298      sigingstone  #TOM4GX https://t.co/eyQXa3SDJw: #TFS (Tenerif...\n",
      "299  AboveVlaardinge  #TRA9R (B737): #PMI (Palma de Mallorca) to #RT...\n",
      "\n",
      "[300 rows x 2 columns]\n"
     ]
    }
   ],
   "source": [
    "\n",
    "print(df)"
   ]
  },
  {
   "cell_type": "code",
   "execution_count": 12,
   "id": "b9e417f6",
   "metadata": {},
   "outputs": [],
   "source": [
    "df.to_csv('afterhours_tweets_300_2',sep='\\t',index=False)"
   ]
  },
  {
   "cell_type": "code",
   "execution_count": null,
   "id": "eb22f325",
   "metadata": {},
   "outputs": [],
   "source": []
  }
 ],
 "metadata": {
  "kernelspec": {
   "display_name": "Python 3",
   "language": "python",
   "name": "python3"
  },
  "language_info": {
   "codemirror_mode": {
    "name": "ipython",
    "version": 3
   },
   "file_extension": ".py",
   "mimetype": "text/x-python",
   "name": "python",
   "nbconvert_exporter": "python",
   "pygments_lexer": "ipython3",
   "version": "3.8.8"
  }
 },
 "nbformat": 4,
 "nbformat_minor": 5
}
